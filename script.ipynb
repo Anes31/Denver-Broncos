{
 "cells": [
  {
   "cell_type": "code",
   "execution_count": 1,
   "metadata": {},
   "outputs": [],
   "source": [
    "import numpy as np\n",
    "import pandas as pd"
   ]
  },
  {
   "cell_type": "code",
   "execution_count": 2,
   "metadata": {},
   "outputs": [],
   "source": [
    "import sqlite3\n",
    "\n",
    "#read the CSV\n",
    "owners = pd.read_csv('owners.csv')\n",
    "pets = pd.read_csv('pets.csv')\n",
    "procedures = pd.read_csv('procedures.csv')\n",
    "procedure_details = pd.read_csv('procedure_details.csv')\n",
    "\n",
    "#create/connect to a database\n",
    "conn = sqlite3.connect(\"DenverBroncos.db\")\n",
    "\n",
    "#store tables in the database:\n",
    "owners.to_sql('owners', conn, if_exists='replace')\n",
    "pets.to_sql('pets', conn, if_exists='replace')\n",
    "procedures.to_sql('procedures', conn, if_exists='replace')\n",
    "procedure_details.to_sql('procedure_details', conn, if_exists='replace')"
   ]
  },
  {
   "cell_type": "code",
   "execution_count": 3,
   "metadata": {},
   "outputs": [
    {
     "name": "stdout",
     "output_type": "stream",
     "text": [
      "Pet's name: \n",
      "  Bonaparte\n"
     ]
    }
   ],
   "source": [
    "#Which pet (enter pet's name) had the most procedures?\n",
    "query1 = 'SELECT Name AS [Pet\\'s name: ] FROM pets AS pe\\\n",
    "            JOIN procedures AS pr ON pe.PetID = pr.PetID\\\n",
    "            GROUP BY pr.PetID\\\n",
    "            ORDER BY COUNT(*)\\\n",
    "            DESC\\\n",
    "            LIMIT 1;'\n",
    "\n",
    "result1 = pd.read_sql(query1, conn).to_string(index=False)\n",
    "print(result1)"
   ]
  },
  {
   "cell_type": "code",
   "execution_count": 4,
   "metadata": {},
   "outputs": [
    {
     "name": "stdout",
     "output_type": "stream",
     "text": [
      "Owner's name: \n",
      "       Daniel\n"
     ]
    }
   ],
   "source": [
    "#Which owner (enter OwnerID) spent the most on a procedure or procedures for his/her pet(s)?\n",
    "query2 = 'SELECT o.Name AS [Owner\\'s name: ] FROM owners AS o\\\n",
    "            JOIN pets AS pe ON o.OwnerID = pe.OwnerID\\\n",
    "            JOIN procedures AS pr ON pe.PetID = pr.PetID\\\n",
    "            JOIN procedure_details AS pd ON pr.ProcedureSubCode = pd.ProcedureSubCode\\\n",
    "            AND pr.ProcedureType = pd.ProcedureType\\\n",
    "            GROUP BY pr.PetID\\\n",
    "            ORDER BY SUM(Price)\\\n",
    "            DESC\\\n",
    "            LIMIT 1;'\n",
    "\n",
    "result2 = pd.read_sql(query2, conn).to_string(index=False)\n",
    "print(result2)"
   ]
  },
  {
   "cell_type": "code",
   "execution_count": 5,
   "metadata": {},
   "outputs": [
    {
     "name": "stdout",
     "output_type": "stream",
     "text": [
      "Mean price: \n",
      "       155.0\n"
     ]
    }
   ],
   "source": [
    "#What is the mean price per procedure for pets with owners who have a 49503 zip code?\n",
    "query3 = 'SELECT ROUND(AVG(CAST(Price AS FLOAT)),2) AS [Mean price: ] FROM procedure_details AS pd\\\n",
    "            JOIN procedures AS pr ON pd.ProcedureSubCode = pr.ProcedureSubCode\\\n",
    "            AND pr.ProcedureType = pd.ProcedureType\\\n",
    "            JOIN pets AS pe ON pr.PetID = pe.PetID\\\n",
    "            JOIN owners AS o on pe.OwnerID = o.OwnerID\\\n",
    "            WHERE o.ZipCode = 49503;'\n",
    "\n",
    "result3 = pd.read_sql(query3, conn).to_string(index=False)\n",
    "print(result3)"
   ]
  },
  {
   "cell_type": "code",
   "execution_count": 6,
   "metadata": {},
   "outputs": [
    {
     "name": "stdout",
     "output_type": "stream",
     "text": [
      "Percentage:\n",
      "      48.65 %\n"
     ]
    }
   ],
   "source": [
    "#What percentage of dogs in pets.csv that have a \"c\" in their name are male? \n",
    "query4 = 'SELECT ROUND(CAST((COUNT(Name)*100) AS FLOAT)/CAST((SELECT COUNT(*) FROM pets WHERE Name LIKE \\'%c%\\') AS FLOAT),2) AS [Percentage:] FROM pets\\\n",
    "            WHERE Gender = \\'male\\' AND Name LIKE \\'%c%\\';'\n",
    "\n",
    "result4 = pd.read_sql(query4, conn).to_string(index=False)\n",
    "print(result4,'%')"
   ]
  },
  {
   "cell_type": "code",
   "execution_count": 7,
   "metadata": {},
   "outputs": [
    {
     "name": "stdout",
     "output_type": "stream",
     "text": [
      "STDV of age for dogs:  3.21\n"
     ]
    }
   ],
   "source": [
    "#What is the standard deviation of age for dogs?\n",
    "query50 = 'SELECT (Age-(SELECT AVG(Age) FROM pets))*(Age-(SELECT AVG(Age) FROM pets)) AS [x]\\\n",
    "            FROM pets\\\n",
    "            WHERE Kind = \\'Dog\\'\\\n",
    "            GROUP BY PetID;'\n",
    "query51 = 'SELECT COUNT(*) AS y FROM pets'\n",
    "\n",
    "r50 = pd.read_sql(query50, conn)\n",
    "r51 = pd.read_sql(query51, conn)\n",
    "result5 = np.around(np.sqrt(r50.x.sum()/r51.y), decimals=2).to_string(index=False)\n",
    "print('STDV of age for dogs: ', result5)"
   ]
  },
  {
   "cell_type": "code",
   "execution_count": 8,
   "metadata": {},
   "outputs": [
    {
     "name": "stdout",
     "output_type": "stream",
     "text": [
      "Oldest parrot's age: \n",
      "                   11\n"
     ]
    }
   ],
   "source": [
    "#How old is the oldest parrot?\n",
    "query6 = 'SELECT Age AS [Oldest parrot\\'s age: ] FROM pets\\\n",
    "            WHERE Kind = \\'Parrot\\'\\\n",
    "            ORDER BY Age\\\n",
    "            DESC\\\n",
    "            LIMIT 1;'\n",
    "\n",
    "result6 = pd.read_sql(query6, conn).to_string(index=False)\n",
    "print(result6)"
   ]
  },
  {
   "cell_type": "code",
   "execution_count": 9,
   "metadata": {},
   "outputs": [
    {
     "name": "stdout",
     "output_type": "stream",
     "text": [
      "Mean cats age: \n",
      "           7.32\n"
     ]
    }
   ],
   "source": [
    "#What is the mean age of cats? Keep answer in decimal format and round to the nearest hundredth (e.g. 0.75)\n",
    "query7 = 'SELECT ROUND(AVG(CAST(Age AS FLOAT)),2) AS [Mean cats age: ] FROM pets\\\n",
    "            WHERE Kind = \\'Cat\\'\\\n",
    "            GROUP BY Kind;'\n",
    "\n",
    "result7 = pd.read_sql(query7, conn).to_string(index=False)\n",
    "print(result7)"
   ]
  },
  {
   "cell_type": "code",
   "execution_count": 10,
   "metadata": {},
   "outputs": [
    {
     "data": {
      "text/plain": [
       "<matplotlib.axes._subplots.AxesSubplot at 0x20987bae0b8>"
      ]
     },
     "execution_count": 10,
     "metadata": {},
     "output_type": "execute_result"
    },
    {
     "data": {
      "image/png": "[encoded data removed]",
      "text/plain": [
       "<Figure size 432x288 with 1 Axes>"
      ]
     },
     "metadata": {
      "needs_background": "light"
     },
     "output_type": "display_data"
    }
   ],
   "source": [
    "#Please upload an image of a box plot with kind of pet on the x-axis and pet age on the y-axis. \n",
    "#The distributions of dog, cat and parrot ages should be shown in green, purple and orange, respectively. \n",
    "#An example of a box plot can be found here: https://ggplot2.tidyverse.org/reference/geom_boxplot.html \n",
    "import matplotlib.pyplot as plt\n",
    "import seaborn as sns\n",
    "%matplotlib inline\n",
    "\n",
    "kind = list(set(pets.Kind))\n",
    "pet_colors = ['green','purple','orange']\n",
    "color_dict = dict(zip(kind, pet_colors))\n",
    "\n",
    "bplot = sns.boxplot(y = 'Age', x = 'Kind', data = pets, width = 0.5)\n",
    "                  \n",
    "for i in range(0, len(kind)):\n",
    "    mybox = bplot.artists[i]\n",
    "    mybox.set_facecolor(color_dict[kind[i]])\n",
    "\n",
    "bplot"
   ]
  },
  {
   "cell_type": "code",
   "execution_count": 11,
   "metadata": {
    "scrolled": true
   },
   "outputs": [
    {
     "name": "stdout",
     "output_type": "stream",
     "text": [
      "Name\n",
      "    Taz\n",
      "  Candy\n",
      "Humbert\n"
     ]
    }
   ],
   "source": [
    "#BONUS: Please upload a script with a user-defined function that accepts OwnerID as an input and returns \n",
    "#a vector of pet names for the given OwnerID.\n",
    "\n",
    "def func(ownerID):\n",
    "    return 'SELECT Name FROM pets WHERE OwnerID = {}'.format(ownerID)\n",
    "\n",
    "#run it as a simple SQL query\n",
    "print(pd.read_sql(func(8133), conn).to_string(index=False))"
   ]
  },
  {
   "cell_type": "code",
   "execution_count": 12,
   "metadata": {},
   "outputs": [
    {
     "name": "stdout",
     "output_type": "stream",
     "text": [
      "SELECT Name FROM pets WHERE OwnerID = 8133\n"
     ]
    }
   ],
   "source": [
    "#create a function and execute it\n",
    "conn.create_function('script', 1, func)\n",
    "try:\n",
    "    #print((conn.execute('SELECT f(?)', (8133,)).fetchall()))\n",
    "    cur = conn.cursor()\n",
    "    cur.execute('SELECT script(?)', (8133,))\n",
    "    print(cur.fetchone()[0])\n",
    "except sqlite3.Error as error:\n",
    "    print(error)"
   ]
  },
  {
   "cell_type": "code",
   "execution_count": 13,
   "metadata": {},
   "outputs": [
    {
     "data": {
      "text/plain": [
       "['Taz', 'Candy', 'Humbert']"
      ]
     },
     "execution_count": 13,
     "metadata": {},
     "output_type": "execute_result"
    }
   ],
   "source": [
    "#OR with python(using pandas dataframe)\n",
    "def script(ownerID):\n",
    "    return list(pets.Name.loc[pets['OwnerID'] == ownerID])\n",
    "\n",
    "#script(8133)"
   ]
  },
  {
   "cell_type": "code",
   "execution_count": 14,
   "metadata": {},
   "outputs": [
    {
     "data": {
      "text/plain": [
       "'CREATE FUNCTION dbo.GetPetsName(@OwnderID int)\\n    RETURNS TABLE\\n    AS \\n    BEGIN\\n        RETURN\\n        SELECT Name FROM pets WHERE ownerdID = @ownerdID\\n    END;'"
      ]
     },
     "execution_count": 14,
     "metadata": {},
     "output_type": "execute_result"
    }
   ],
   "source": [
    "#user-defined fuction (not supported in sqlite)\n",
    "'''CREATE FUNCTION dbo.GetPetsName(@OwnderID int)\n",
    "    RETURNS TABLE\n",
    "    AS \n",
    "    BEGIN\n",
    "        RETURN\n",
    "        SELECT Name FROM pets WHERE ownerdID = @ownerdID\n",
    "    END;'''"
   ]
  }
 ],
 "metadata": {
  "kernelspec": {
   "display_name": "Python 3",
   "language": "python",
   "name": "python3"
  },
  "language_info": {
   "codemirror_mode": {
    "name": "ipython",
    "version": 3
   },
   "file_extension": ".py",
   "mimetype": "text/x-python",
   "name": "python",
   "nbconvert_exporter": "python",
   "pygments_lexer": "ipython3",
   "version": "3.7.1"
  }
 },
 "nbformat": 4,
 "nbformat_minor": 2
}
